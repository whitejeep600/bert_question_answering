# I ran this code on Google colab to predict question answering for the 
# validation set for multiple checkpoints (changing the checkpoint number
# in line 19 and output directory in line 21).

# A little irritating detail: the script gets all grumpy when it's passed
# a dataset for prediction which has the same format as train and validation
# sets rather than test set, so I had to run another reformatting script
# (strip_squad_valid.py) from this directory to strip the answer field and
# make the script swallow the dataset.

from google.colab import drive
drive.mount('/content/drive')
!ls '/content/drive/MyDrive'
%cd '/content/drive/My Drive'
#!git clone https://github.com/huggingface/transformers.git
%cd transformers
!pip install -e .
!pip install git+https://github.com/huggingface/transformers
!pip install datasets
!pip install evaluate

!python /content/drive/MyDrive/predict_answers_for_test.py \
--model_name_or_path '/content/drive/MyDrive/qa_out2/checkpoint-500' \
--do_predict \
--output_dir '/content/drive/My Drive/data/out500' \
--max_seq_length 384 \
--test_file='/content/drive/My Drive/data/stripped_valid_squad_format.json' \
--doc_stride 128
